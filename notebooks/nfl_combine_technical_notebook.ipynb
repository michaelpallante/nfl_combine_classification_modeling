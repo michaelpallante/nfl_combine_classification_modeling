{
 "cells": [
  {
   "cell_type": "markdown",
   "metadata": {},
   "source": [
    "# NFL Combine Classification Modeling\n",
    "\n",
    "## Technical Notebook"
   ]
  },
  {
   "cell_type": "markdown",
   "metadata": {},
   "source": [
    "## Project Goals\n",
    "\n",
    "- Determine the influence the NFL Combine has on a prospect's draft status (getting drafted or not).\n",
    "- Reveal how much the NFL Combine factors in on a prospect's draft value (how early or how late a prospect gets drafted, if at all).\n",
    "- Discover which NFL Combine drills have the most impact on a prospect's draft position."
   ]
  },
  {
   "cell_type": "markdown",
   "metadata": {},
   "source": [
    "## Summary of Data\n",
    "\n",
    "The dataset that was analyzed for this study contains 9,972 observations of NFL Combine and NFL Draft data, dating from 1987-2017."
   ]
  },
  {
   "cell_type": "markdown",
   "metadata": {},
   "source": [
    "### Library Import"
   ]
  },
  {
   "cell_type": "code",
   "execution_count": 1,
   "metadata": {},
   "outputs": [],
   "source": [
    "#Import libraries\n",
    "%run ../python_files/libraries"
   ]
  },
  {
   "cell_type": "markdown",
   "metadata": {},
   "source": [
    "### Data Import"
   ]
  },
  {
   "cell_type": "code",
   "execution_count": 2,
   "metadata": {},
   "outputs": [],
   "source": [
    "#Import cleaned data from our exploratory data analysis\n",
    "%run ../python_files/nfl_combine_eda"
   ]
  },
  {
   "cell_type": "code",
   "execution_count": 3,
   "metadata": {},
   "outputs": [
    {
     "data": {
      "text/html": [
       "<div>\n",
       "<style scoped>\n",
       "    .dataframe tbody tr th:only-of-type {\n",
       "        vertical-align: middle;\n",
       "    }\n",
       "\n",
       "    .dataframe tbody tr th {\n",
       "        vertical-align: top;\n",
       "    }\n",
       "\n",
       "    .dataframe thead th {\n",
       "        text-align: right;\n",
       "    }\n",
       "</style>\n",
       "<table border=\"1\" class=\"dataframe\">\n",
       "  <thead>\n",
       "    <tr style=\"text-align: right;\">\n",
       "      <th></th>\n",
       "      <th>combine_year</th>\n",
       "      <th>player_name</th>\n",
       "      <th>college</th>\n",
       "      <th>position</th>\n",
       "      <th>height_inches</th>\n",
       "      <th>weight_lbs</th>\n",
       "      <th>hand_size_inches</th>\n",
       "      <th>arm_length_inches</th>\n",
       "      <th>wonderlic_score</th>\n",
       "      <th>40_yard_dash</th>\n",
       "      <th>bench_press_reps</th>\n",
       "      <th>vertitcal_leap_inches</th>\n",
       "      <th>broad_jump_inches</th>\n",
       "      <th>3_cone_drill</th>\n",
       "      <th>20_yard_shuttle</th>\n",
       "      <th>60_yard_shuttle</th>\n",
       "    </tr>\n",
       "  </thead>\n",
       "  <tbody>\n",
       "    <tr>\n",
       "      <td>0</td>\n",
       "      <td>2018</td>\n",
       "      <td>Josh Adams</td>\n",
       "      <td>Notre Dame</td>\n",
       "      <td>RB</td>\n",
       "      <td>74.0</td>\n",
       "      <td>213</td>\n",
       "      <td>9.25</td>\n",
       "      <td>33.75</td>\n",
       "      <td>NaN</td>\n",
       "      <td>NaN</td>\n",
       "      <td>18.0</td>\n",
       "      <td>NaN</td>\n",
       "      <td>NaN</td>\n",
       "      <td>NaN</td>\n",
       "      <td>NaN</td>\n",
       "      <td>NaN</td>\n",
       "    </tr>\n",
       "    <tr>\n",
       "      <td>1</td>\n",
       "      <td>2018</td>\n",
       "      <td>Ola Adeniyi</td>\n",
       "      <td>Toledo</td>\n",
       "      <td>DE</td>\n",
       "      <td>74.0</td>\n",
       "      <td>248</td>\n",
       "      <td>9.63</td>\n",
       "      <td>31.75</td>\n",
       "      <td>NaN</td>\n",
       "      <td>4.83</td>\n",
       "      <td>26.0</td>\n",
       "      <td>31.5</td>\n",
       "      <td>NaN</td>\n",
       "      <td>7.21</td>\n",
       "      <td>4.28</td>\n",
       "      <td>12.79</td>\n",
       "    </tr>\n",
       "    <tr>\n",
       "      <td>2</td>\n",
       "      <td>2018</td>\n",
       "      <td>Jordan Akins</td>\n",
       "      <td>Central Florida</td>\n",
       "      <td>TE</td>\n",
       "      <td>75.0</td>\n",
       "      <td>249</td>\n",
       "      <td>9.50</td>\n",
       "      <td>32.50</td>\n",
       "      <td>NaN</td>\n",
       "      <td>NaN</td>\n",
       "      <td>NaN</td>\n",
       "      <td>NaN</td>\n",
       "      <td>NaN</td>\n",
       "      <td>NaN</td>\n",
       "      <td>NaN</td>\n",
       "      <td>NaN</td>\n",
       "    </tr>\n",
       "    <tr>\n",
       "      <td>3</td>\n",
       "      <td>2018</td>\n",
       "      <td>Jaire Alexander</td>\n",
       "      <td>Louisville</td>\n",
       "      <td>CB</td>\n",
       "      <td>71.0</td>\n",
       "      <td>192</td>\n",
       "      <td>NaN</td>\n",
       "      <td>NaN</td>\n",
       "      <td>NaN</td>\n",
       "      <td>4.38</td>\n",
       "      <td>14.0</td>\n",
       "      <td>35.0</td>\n",
       "      <td>127.0</td>\n",
       "      <td>6.71</td>\n",
       "      <td>3.98</td>\n",
       "      <td>NaN</td>\n",
       "    </tr>\n",
       "    <tr>\n",
       "      <td>4</td>\n",
       "      <td>2018</td>\n",
       "      <td>Austin Allen</td>\n",
       "      <td>Arkansas</td>\n",
       "      <td>QB</td>\n",
       "      <td>72.0</td>\n",
       "      <td>210</td>\n",
       "      <td>9.63</td>\n",
       "      <td>30.63</td>\n",
       "      <td>NaN</td>\n",
       "      <td>4.81</td>\n",
       "      <td>NaN</td>\n",
       "      <td>29.5</td>\n",
       "      <td>112.0</td>\n",
       "      <td>7.18</td>\n",
       "      <td>4.48</td>\n",
       "      <td>NaN</td>\n",
       "    </tr>\n",
       "    <tr>\n",
       "      <td>...</td>\n",
       "      <td>...</td>\n",
       "      <td>...</td>\n",
       "      <td>...</td>\n",
       "      <td>...</td>\n",
       "      <td>...</td>\n",
       "      <td>...</td>\n",
       "      <td>...</td>\n",
       "      <td>...</td>\n",
       "      <td>...</td>\n",
       "      <td>...</td>\n",
       "      <td>...</td>\n",
       "      <td>...</td>\n",
       "      <td>...</td>\n",
       "      <td>...</td>\n",
       "      <td>...</td>\n",
       "      <td>...</td>\n",
       "    </tr>\n",
       "    <tr>\n",
       "      <td>10223</td>\n",
       "      <td>1987</td>\n",
       "      <td>Rod Woodson</td>\n",
       "      <td>Purdue</td>\n",
       "      <td>CB</td>\n",
       "      <td>72.0</td>\n",
       "      <td>202</td>\n",
       "      <td>10.50</td>\n",
       "      <td>31.00</td>\n",
       "      <td>NaN</td>\n",
       "      <td>4.33</td>\n",
       "      <td>10.0</td>\n",
       "      <td>36.0</td>\n",
       "      <td>125.0</td>\n",
       "      <td>NaN</td>\n",
       "      <td>3.98</td>\n",
       "      <td>10.92</td>\n",
       "    </tr>\n",
       "    <tr>\n",
       "      <td>10224</td>\n",
       "      <td>1987</td>\n",
       "      <td>John Wooldridge</td>\n",
       "      <td>Ohio State</td>\n",
       "      <td>RB</td>\n",
       "      <td>68.4</td>\n",
       "      <td>193</td>\n",
       "      <td>NaN</td>\n",
       "      <td>NaN</td>\n",
       "      <td>NaN</td>\n",
       "      <td>NaN</td>\n",
       "      <td>NaN</td>\n",
       "      <td>NaN</td>\n",
       "      <td>NaN</td>\n",
       "      <td>NaN</td>\n",
       "      <td>NaN</td>\n",
       "      <td>NaN</td>\n",
       "    </tr>\n",
       "    <tr>\n",
       "      <td>10225</td>\n",
       "      <td>1987</td>\n",
       "      <td>David Wyman</td>\n",
       "      <td>Stanford</td>\n",
       "      <td>ILB</td>\n",
       "      <td>74.0</td>\n",
       "      <td>235</td>\n",
       "      <td>9.50</td>\n",
       "      <td>31.25</td>\n",
       "      <td>NaN</td>\n",
       "      <td>4.79</td>\n",
       "      <td>23.0</td>\n",
       "      <td>29.0</td>\n",
       "      <td>118.0</td>\n",
       "      <td>NaN</td>\n",
       "      <td>4.30</td>\n",
       "      <td>11.78</td>\n",
       "    </tr>\n",
       "    <tr>\n",
       "      <td>10226</td>\n",
       "      <td>1987</td>\n",
       "      <td>Theo Young</td>\n",
       "      <td>Arkansas</td>\n",
       "      <td>TE</td>\n",
       "      <td>74.0</td>\n",
       "      <td>231</td>\n",
       "      <td>9.00</td>\n",
       "      <td>34.00</td>\n",
       "      <td>NaN</td>\n",
       "      <td>4.89</td>\n",
       "      <td>9.0</td>\n",
       "      <td>30.0</td>\n",
       "      <td>107.0</td>\n",
       "      <td>NaN</td>\n",
       "      <td>4.20</td>\n",
       "      <td>11.71</td>\n",
       "    </tr>\n",
       "    <tr>\n",
       "      <td>10227</td>\n",
       "      <td>1987</td>\n",
       "      <td>Jeff Zimmerman</td>\n",
       "      <td>Florida</td>\n",
       "      <td>OG</td>\n",
       "      <td>75.4</td>\n",
       "      <td>341</td>\n",
       "      <td>9.00</td>\n",
       "      <td>33.50</td>\n",
       "      <td>NaN</td>\n",
       "      <td>5.36</td>\n",
       "      <td>22.0</td>\n",
       "      <td>22.5</td>\n",
       "      <td>NaN</td>\n",
       "      <td>NaN</td>\n",
       "      <td>4.83</td>\n",
       "      <td>NaN</td>\n",
       "    </tr>\n",
       "  </tbody>\n",
       "</table>\n",
       "<p>10228 rows × 16 columns</p>\n",
       "</div>"
      ],
      "text/plain": [
       "       combine_year      player_name          college position  height_inches  \\\n",
       "0              2018       Josh Adams       Notre Dame       RB           74.0   \n",
       "1              2018      Ola Adeniyi           Toledo       DE           74.0   \n",
       "2              2018     Jordan Akins  Central Florida       TE           75.0   \n",
       "3              2018  Jaire Alexander       Louisville       CB           71.0   \n",
       "4              2018     Austin Allen         Arkansas       QB           72.0   \n",
       "...             ...              ...              ...      ...            ...   \n",
       "10223          1987      Rod Woodson           Purdue       CB           72.0   \n",
       "10224          1987  John Wooldridge       Ohio State       RB           68.4   \n",
       "10225          1987      David Wyman         Stanford      ILB           74.0   \n",
       "10226          1987       Theo Young         Arkansas       TE           74.0   \n",
       "10227          1987   Jeff Zimmerman          Florida       OG           75.4   \n",
       "\n",
       "       weight_lbs  hand_size_inches  arm_length_inches  wonderlic_score  \\\n",
       "0             213              9.25              33.75              NaN   \n",
       "1             248              9.63              31.75              NaN   \n",
       "2             249              9.50              32.50              NaN   \n",
       "3             192               NaN                NaN              NaN   \n",
       "4             210              9.63              30.63              NaN   \n",
       "...           ...               ...                ...              ...   \n",
       "10223         202             10.50              31.00              NaN   \n",
       "10224         193               NaN                NaN              NaN   \n",
       "10225         235              9.50              31.25              NaN   \n",
       "10226         231              9.00              34.00              NaN   \n",
       "10227         341              9.00              33.50              NaN   \n",
       "\n",
       "       40_yard_dash  bench_press_reps  vertitcal_leap_inches  \\\n",
       "0               NaN              18.0                    NaN   \n",
       "1              4.83              26.0                   31.5   \n",
       "2               NaN               NaN                    NaN   \n",
       "3              4.38              14.0                   35.0   \n",
       "4              4.81               NaN                   29.5   \n",
       "...             ...               ...                    ...   \n",
       "10223          4.33              10.0                   36.0   \n",
       "10224           NaN               NaN                    NaN   \n",
       "10225          4.79              23.0                   29.0   \n",
       "10226          4.89               9.0                   30.0   \n",
       "10227          5.36              22.0                   22.5   \n",
       "\n",
       "       broad_jump_inches  3_cone_drill  20_yard_shuttle  60_yard_shuttle  \n",
       "0                    NaN           NaN              NaN              NaN  \n",
       "1                    NaN          7.21             4.28            12.79  \n",
       "2                    NaN           NaN              NaN              NaN  \n",
       "3                  127.0          6.71             3.98              NaN  \n",
       "4                  112.0          7.18             4.48              NaN  \n",
       "...                  ...           ...              ...              ...  \n",
       "10223              125.0           NaN             3.98            10.92  \n",
       "10224                NaN           NaN              NaN              NaN  \n",
       "10225              118.0           NaN             4.30            11.78  \n",
       "10226              107.0           NaN             4.20            11.71  \n",
       "10227                NaN           NaN             4.83              NaN  \n",
       "\n",
       "[10228 rows x 16 columns]"
      ]
     },
     "execution_count": 3,
     "metadata": {},
     "output_type": "execute_result"
    }
   ],
   "source": [
    "nfl_combine_df"
   ]
  },
  {
   "cell_type": "markdown",
   "metadata": {},
   "source": [
    "## Modeling"
   ]
  },
  {
   "cell_type": "markdown",
   "metadata": {},
   "source": [
    "### Logistic Regression Model\n",
    "\n"
   ]
  },
  {
   "cell_type": "markdown",
   "metadata": {},
   "source": [
    "##### Model Implementation\n",
    "\n"
   ]
  },
  {
   "cell_type": "code",
   "execution_count": null,
   "metadata": {},
   "outputs": [],
   "source": [
    "# logit_model = sm.Logit(y_train_log, x_train_log)\n",
    "# logit_result = logit_model.fit()\n",
    "# print(logit_result.summary())"
   ]
  },
  {
   "cell_type": "markdown",
   "metadata": {},
   "source": [
    "##### Model Fitting\n",
    "\n",
    "We use our model from above, which was built on the training data set, to test against our test data set below. This will help us evaluate the model performance of our logistic regression model."
   ]
  },
  {
   "cell_type": "code",
   "execution_count": null,
   "metadata": {},
   "outputs": [],
   "source": [
    "# logreg_model = LogisticRegression()\n",
    "# logreg_model.fit(x_train_log, y_train_log)"
   ]
  },
  {
   "cell_type": "markdown",
   "metadata": {},
   "source": [
    "##### Predicting Test Set Results and Calculating Accuracy\n",
    "\n",
    "Below, we use several metrics to evaluate the model performance of our logistic regression model, including the calculation of accuracy, a confusion matrix, a classification report, and a plot of a ROC curve. These performance evaluation techniques evaluate the training dataset against the test data set."
   ]
  },
  {
   "cell_type": "code",
   "execution_count": null,
   "metadata": {},
   "outputs": [],
   "source": [
    "# y_pred_log = logreg_model.predict(x_test_log)\n",
    "# print('Accuracy of logistic regression classifier on test set: {:.2f}'.format(logreg_model.score(x_test_log, y_test_log)))"
   ]
  },
  {
   "cell_type": "markdown",
   "metadata": {},
   "source": [
    "Through the calculation of the accuracy, 78% of the variability in 'crash' can be explained using our feature variables, which is promising."
   ]
  },
  {
   "cell_type": "markdown",
   "metadata": {},
   "source": [
    "##### Confusion Matrix\n",
    "\n",
    "The below confusion matrix results are telling us that we have 946 (830 + 116 = 946) correct predictions and 263 (200 + 63 = 263) incorrect predictions. The ratio of approximately 3.6 correct predictions to every 1 incorrect predictions is a good sign."
   ]
  },
  {
   "cell_type": "code",
   "execution_count": null,
   "metadata": {},
   "outputs": [],
   "source": [
    "# confusion_matrix = confusion_matrix(y_test_log, y_pred_log)\n",
    "# print(confusion_matrix)"
   ]
  },
  {
   "cell_type": "markdown",
   "metadata": {},
   "source": [
    "##### Interpretation of Results\n",
    "\n",
    "The below classification report and ROC curve further display the accuracy of our model against the test set and the number of correct predictions vs incorrect predictions."
   ]
  },
  {
   "cell_type": "code",
   "execution_count": null,
   "metadata": {},
   "outputs": [],
   "source": [
    "# print(classification_report(y_test_log, y_pred_log))"
   ]
  },
  {
   "cell_type": "code",
   "execution_count": null,
   "metadata": {},
   "outputs": [],
   "source": [
    "# ROC Curve\n",
    "\n",
    "# logit_roc_auc = roc_auc_score(y_test_log, logreg_model.predict(x_test_log))\n",
    "# fpr, tpr, thresholds = roc_curve(y_test_log, logreg_model.predict_proba(x_test_log)[:,1])\n",
    "# plt.figure()\n",
    "# plt.plot(fpr, tpr, label='Logistic Regression (area = %0.2f)' % logit_roc_auc)\n",
    "# plt.plot([0, 1], [0, 1],'r--')\n",
    "# plt.xlim([0.0, 1.0])\n",
    "# plt.ylim([0.0, 1.05])\n",
    "# plt.xlabel('False Positive Rate')\n",
    "# plt.ylabel('True Positive Rate')\n",
    "# plt.title('Receiver operating characteristic')\n",
    "# plt.legend(loc=\"lower right\")\n",
    "# plt.show()"
   ]
  },
  {
   "cell_type": "markdown",
   "metadata": {},
   "source": [
    "### Linear Regression Model\n",
    "\n"
   ]
  },
  {
   "cell_type": "markdown",
   "metadata": {},
   "source": [
    "##### Model Implementation\n",
    "\n"
   ]
  },
  {
   "cell_type": "code",
   "execution_count": null,
   "metadata": {
    "scrolled": true
   },
   "outputs": [],
   "source": [
    "# linear_model = sm.OLS(y_train_lin, x_train_lin)\n",
    "# linear_result = linear_model.fit()\n",
    "# print(linear_result.summary())"
   ]
  },
  {
   "cell_type": "markdown",
   "metadata": {},
   "source": [
    "##### Model Fitting\n",
    "\n",
    "We use our model from above, which was built on the training data set, to test against our test data set below. This will help us evaluate the model performance of our simple linear regression model."
   ]
  },
  {
   "cell_type": "code",
   "execution_count": null,
   "metadata": {},
   "outputs": [],
   "source": [
    "# linreg_model = LinearRegression()\n",
    "# linreg_model.fit(x_train_lin, y_train_lin)"
   ]
  },
  {
   "cell_type": "markdown",
   "metadata": {},
   "source": [
    "##### Model Results\n",
    "\n",
    "Below, we use several metrics to evaluate the model performance of our simple linear regression model, including the calculation of r-squared value, the calculation of root mean squared error (RMSE) value, the calculation of mean absolute error value (MAE), and a plot of the model residuals. These performance evaluation techniques evaluate the training dataset against the test data set."
   ]
  },
  {
   "cell_type": "code",
   "execution_count": null,
   "metadata": {},
   "outputs": [],
   "source": [
    "#Calculate r-squared value\n",
    "\n",
    "# y_pred_lin = linreg_model.predict(x_test_lin)\n",
    "# print('Linear Regression R squared\": %.4f' % linreg_model.score(x_test_lin, y_test_lin))"
   ]
  },
  {
   "cell_type": "markdown",
   "metadata": {},
   "source": [
    "Through the calculation of the r-squared value, only approximately 1% of the variability in crash_cost can be explained using our feature variables, which is very low."
   ]
  },
  {
   "cell_type": "code",
   "execution_count": null,
   "metadata": {},
   "outputs": [],
   "source": [
    "#Calculate root mean squared error (RMSE) value\n",
    "\n",
    "# mse_lin = mean_squared_error(y_pred_lin, y_test_lin)\n",
    "# rmse_lin = np.sqrt(mse_lin)\n",
    "# print('Linear Regression RMSE: %.4f' % rmse_lin)"
   ]
  },
  {
   "cell_type": "markdown",
   "metadata": {},
   "source": [
    "Through the calculation of root mean squared error (RMSE), our model was able to predict that the value of every crash in the test set was within approximately $9867 of the real price."
   ]
  },
  {
   "cell_type": "code",
   "execution_count": null,
   "metadata": {},
   "outputs": [],
   "source": [
    "#Calculate mean absolute error (MAE) value\n",
    "\n",
    "# mae_lin = mean_absolute_error(y_pred_lin, y_test_lin)\n",
    "# print('Linear Regression MAE: %.4f' % mae_lin)"
   ]
  },
  {
   "cell_type": "markdown",
   "metadata": {},
   "source": [
    "The calculation of mean absolute error (MAE) was also concerning."
   ]
  },
  {
   "cell_type": "code",
   "execution_count": null,
   "metadata": {
    "scrolled": true
   },
   "outputs": [],
   "source": [
    "#Plot of Residuals\n",
    "\n",
    "# visualizer = ResidualsPlot(linreg_model)\n",
    "# visualizer.fit(x_train_lin, y_train_lin)  # Fit the training data to the visualizer\n",
    "# visualizer.score(x_test_lin, y_test_lin)  # Evaluate the model on the test data\n",
    "# visualizer.show()                         # Finalize and render the plot of residuals"
   ]
  },
  {
   "cell_type": "markdown",
   "metadata": {},
   "source": [
    "The above plot of the model residuals shows a bad relationship between predicted and actual values, which also proves that our model is not accurate."
   ]
  },
  {
   "cell_type": "markdown",
   "metadata": {},
   "source": [
    "## Results and Conclusions\n",
    "\n"
   ]
  },
  {
   "cell_type": "code",
   "execution_count": null,
   "metadata": {},
   "outputs": [],
   "source": []
  }
 ],
 "metadata": {
  "kernelspec": {
   "display_name": "Python 3",
   "language": "python",
   "name": "python3"
  },
  "language_info": {
   "codemirror_mode": {
    "name": "ipython",
    "version": 3
   },
   "file_extension": ".py",
   "mimetype": "text/x-python",
   "name": "python",
   "nbconvert_exporter": "python",
   "pygments_lexer": "ipython3",
   "version": "3.6.9"
  },
  "varInspector": {
   "cols": {
    "lenName": 16,
    "lenType": 16,
    "lenVar": 40
   },
   "kernels_config": {
    "python": {
     "delete_cmd_postfix": "",
     "delete_cmd_prefix": "del ",
     "library": "var_list.py",
     "varRefreshCmd": "print(var_dic_list())"
    },
    "r": {
     "delete_cmd_postfix": ") ",
     "delete_cmd_prefix": "rm(",
     "library": "var_list.r",
     "varRefreshCmd": "cat(var_dic_list()) "
    }
   },
   "types_to_exclude": [
    "module",
    "function",
    "builtin_function_or_method",
    "instance",
    "_Feature"
   ],
   "window_display": false
  }
 },
 "nbformat": 4,
 "nbformat_minor": 4
}
